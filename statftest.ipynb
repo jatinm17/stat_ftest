{
 "cells": [
  {
   "cell_type": "code",
   "execution_count": 1,
   "id": "5a449f88-4339-41e1-b491-93ae4fb15669",
   "metadata": {},
   "outputs": [],
   "source": [
    "import numpy as np\n",
    "import scipy.stats as stats"
   ]
  },
  {
   "cell_type": "code",
   "execution_count": 2,
   "id": "1c527af4-c4d1-4719-8eaf-254b775b520d",
   "metadata": {},
   "outputs": [
    {
     "name": "stdout",
     "output_type": "stream",
     "text": [
      "0.010464 0.00042400000000000017\n"
     ]
    },
    {
     "data": {
      "text/plain": [
       "(24.679245283018858, 0.004431318383760985)"
      ]
     },
     "execution_count": 2,
     "metadata": {},
     "output_type": "execute_result"
    }
   ],
   "source": [
    "# QUESTION 1\n",
    "group1 = [0.28, 0.2, 0.26, 0.28, 0.5]\n",
    "group2 = [0.2, 0.23, 0.26, 0.21, 0.23]\n",
    "x = np.array(group1)\n",
    "y = np.array(group2)\n",
    "print(np.var(group1), np.var(group2))\n",
    "def f_test(group1, group2):\n",
    "    f = np.var(group1, ddof=1)/np.var(group2, ddof=1)\n",
    "    nun = x.size-1\n",
    "    dun = y.size-1\n",
    "    p_value = 1-stats.f.cdf(f, nun, dun)\n",
    "    return f, p_value\n",
    "f_test(x,y)"
   ]
  },
  {
   "cell_type": "code",
   "execution_count": 3,
   "id": "921067f5-acc1-4df3-887e-53d014fff888",
   "metadata": {},
   "outputs": [
    {
     "name": "stdout",
     "output_type": "stream",
     "text": [
      "Critical F-value: 4.152804030062877\n"
     ]
    }
   ],
   "source": [
    "# QUESTION 2\n",
    "from scipy.stats import f\n",
    "\n",
    "def get_critical_f_value(significance_level, df_num, df_denom):\n",
    "   \n",
    "    alpha = significance_level / 2 \n",
    "    critical_f = f.ppf(1 - alpha, df_num, df_denom)\n",
    "    return critical_f\n",
    "\n",
    "\n",
    "significance_level = 0.05\n",
    "degrees_of_freedom_num = 3  \n",
    "degrees_of_freedom_denom = 15  \n",
    "\n",
    "critical_f_value = get_critical_f_value(significance_level, degrees_of_freedom_num, degrees_of_freedom_denom)\n",
    "print(\"Critical F-value:\", critical_f_value)\n"
   ]
  },
  {
   "cell_type": "code",
   "execution_count": 9,
   "id": "ba072a26-6d7c-4a32-b18d-c7de2c5bb70b",
   "metadata": {},
   "outputs": [
    {
     "name": "stdout",
     "output_type": "stream",
     "text": [
      "F-Value: 1.3158783640794705\n",
      "Degrees of Freedom: (49, 59)\n",
      "P-Value: 0.8439299358925461\n"
     ]
    }
   ],
   "source": [
    "# QUESTION 3\n",
    "from scipy.stats import f\n",
    "\n",
    "def generate_samples(mu1, sigma1, size1, mu2, sigma2, size2):\n",
    "    \n",
    "    sample1 = np.random.normal(mu1, sigma1, size1)\n",
    "    sample2 = np.random.normal(mu2, sigma2, size2)\n",
    "    return sample1, sample2\n",
    "\n",
    "def f_test(sample1, sample2):\n",
    "    \n",
    "    var1 = np.var(sample1, ddof=1)  \n",
    "    var2 = np.var(sample2, ddof=1)\n",
    "    df1 = len(sample1) - 1\n",
    "    df2 = len(sample2) - 1\n",
    "    f_statistic = var1 / var2 if var1 >= var2 else var2 / var1\n",
    "    p_value = f.cdf(f_statistic, df1, df2)\n",
    "\n",
    "    return f_statistic, (df1, df2), p_value\n",
    "\n",
    "\n",
    "sigma1 = 2.5\n",
    "sigma2 = 3.0\n",
    "size1 = 50\n",
    "size2 = 60\n",
    "\n",
    "\n",
    "mu1 = 10\n",
    "mu2 = 12\n",
    "\n",
    "\n",
    "sample1, sample2 = generate_samples(mu1, sigma1, size1, mu2, sigma2, size2)\n",
    "\n",
    "\n",
    "f_statistic, degrees_of_freedom, p_value = f_test(sample1, sample2)\n",
    "\n",
    "# Output the results\n",
    "print(\"F-Value:\", f_statistic)\n",
    "print(\"Degrees of Freedom:\", degrees_of_freedom)\n",
    "print(\"P-Value:\", p_value)\n"
   ]
  },
  {
   "cell_type": "code",
   "execution_count": 17,
   "id": "9511a554-1cb5-422c-863c-6d4978675cf5",
   "metadata": {},
   "outputs": [
    {
     "name": "stdout",
     "output_type": "stream",
     "text": [
      "1.5\n",
      "3.473699051085809\n",
      "no significant difference\n"
     ]
    }
   ],
   "source": [
    "# QUESTION 4\n",
    "var1=10\n",
    "var2=15\n",
    "df1=11\n",
    "df2=11\n",
    "alpha=0.05/2\n",
    "f_statistic = var1 / var2 if var1 >= var2 else var2 / var1\n",
    "print(f_statistic)\n",
    "critical_f = f.ppf(1 - alpha, df1, df2)\n",
    "print(critical_f)\n",
    "if(f_statistic>critical_f):\n",
    "    print(\"significant difference between variance\")\n",
    "else:\n",
    "    print(\"no significant difference\")\n",
    "   "
   ]
  },
  {
   "cell_type": "code",
   "execution_count": 16,
   "id": "8c5b4cb4-dd1b-4c80-b198-cb27759aea4f",
   "metadata": {},
   "outputs": [
    {
     "name": "stdout",
     "output_type": "stream",
     "text": [
      "Mean of F-distribution: 1.25\n",
      "Variance of F-distribution: 1.3541666666666667\n"
     ]
    }
   ],
   "source": [
    "# QUESTION 6\n",
    "def f_distribution_mean_variance(df1, df2):\n",
    "    # Calculate the mean and variance of the F-distribution\n",
    "    mean = df2 / (df2 - 2)\n",
    "    variance = (2 * (df2**2) * (df1 + df2 - 2)) / ((df1 * (df2 - 2)**2 * (df2 - 4)))\n",
    "    return mean, variance\n",
    "\n",
    "# Example usage:\n",
    "df1 = 5\n",
    "df2 = 10\n",
    "mean, variance = f_distribution_mean_variance(df1, df2)\n",
    "print(\"Mean of F-distribution:\", mean)\n",
    "print(\"Variance of F-distribution:\", variance)\n"
   ]
  },
  {
   "cell_type": "code",
   "execution_count": 18,
   "id": "b4cf4a68-9132-447c-80f9-68ab4d27f363",
   "metadata": {},
   "outputs": [
    {
     "name": "stdout",
     "output_type": "stream",
     "text": [
      "1.25\n",
      "2.6457907352338195\n",
      "no significant difference\n"
     ]
    }
   ],
   "source": [
    "# QUESTION 7\n",
    "var1=25\n",
    "var2=20\n",
    "df1=9\n",
    "df2=14\n",
    "alpha=0.10/2\n",
    "f_statistic = var1 / var2 if var1 >= var2 else var2 / var1\n",
    "print(f_statistic)\n",
    "critical_f = f.ppf(1 - alpha, df1, df2)\n",
    "print(critical_f)\n",
    "if(f_statistic>critical_f):\n",
    "    print(\"significant difference between variance\")\n",
    "else:\n",
    "    print(\"no significant difference\")"
   ]
  },
  {
   "cell_type": "code",
   "execution_count": 22,
   "id": "10e3caad-7cf7-4a10-ba97-dc095447e981",
   "metadata": {},
   "outputs": [
    {
     "name": "stdout",
     "output_type": "stream",
     "text": [
      "1.496767651159843\n",
      "6.977701858535566\n",
      "no significant difference\n"
     ]
    }
   ],
   "source": [
    "# QUESTION 8\n",
    "group1=[24, 25, 28, 23, 22, 20, 27]\n",
    "group2=[31, 33, 35, 30, 32, 36]\n",
    "x=np.array(group1)\n",
    "y=np.array(group2)\n",
    "var1=np.var(x)\n",
    "var2=np.var(y)\n",
    "df1=np.size(x)-1\n",
    "df2=np.size(y)-1\n",
    "alpha=0.05/2\n",
    "f_statistic = var1 / var2 if var1 >= var2 else var2 / var1\n",
    "print(f_statistic)\n",
    "critical_f = f.ppf(1 - alpha, df1, df2)\n",
    "print(critical_f)\n",
    "if(f_statistic>critical_f):\n",
    "    print(\"significant difference between variance\")\n",
    "else:\n",
    "    print(\"no significant difference\")"
   ]
  },
  {
   "cell_type": "code",
   "execution_count": null,
   "id": "744cb016-68f2-4ad5-989d-ce3ec2874307",
   "metadata": {},
   "outputs": [],
   "source": [
    "# QUESTION 9\n",
    "group1=[24, 25, 28, 23, 22, 20, 27]\n",
    "group2=[31, 33, 35, 30, 32, 36]\n",
    "x=np.array(group1)\n",
    "y=np.array(group2)\n",
    "var1=np.var(x)\n",
    "var2=np.var(y)\n",
    "df1=np.size(x)-1\n",
    "df2=np.size(y)-1\n",
    "alpha=0.05/2\n",
    "f_statistic = var1 / var2 if var1 >= var2 else var2 / var1\n",
    "print(f_statistic)\n",
    "critical_f = f.ppf(1 - alpha, df1, df2)\n",
    "print(critical_f)\n",
    "if(f_statistic>critical_f):\n",
    "    print(\"significant difference between variance\")\n",
    "else:\n",
    "    print(\"no significant difference\")"
   ]
  }
 ],
 "metadata": {
  "kernelspec": {
   "display_name": "Python 3 (ipykernel)",
   "language": "python",
   "name": "python3"
  },
  "language_info": {
   "codemirror_mode": {
    "name": "ipython",
    "version": 3
   },
   "file_extension": ".py",
   "mimetype": "text/x-python",
   "name": "python",
   "nbconvert_exporter": "python",
   "pygments_lexer": "ipython3",
   "version": "3.10.8"
  }
 },
 "nbformat": 4,
 "nbformat_minor": 5
}
